{
  "nbformat": 4,
  "nbformat_minor": 0,
  "metadata": {
    "colab": {
      "provenance": [],
      "gpuType": "T4"
    },
    "kernelspec": {
      "name": "python3",
      "display_name": "Python 3"
    },
    "language_info": {
      "name": "python"
    },
    "accelerator": "GPU"
  },
  "cells": [
    {
      "cell_type": "code",
      "source": [
        "import torch\n",
        "import torch.nn as nn\n",
        "import torch.optim as optim\n",
        "from torchvision import transforms, models\n",
        "from torch.utils.data import Dataset, DataLoader\n",
        "from PIL import Image\n",
        "import pandas as pd\n",
        "import os\n",
        "from sklearn.model_selection import train_test_split\n",
        "from tqdm import tqdm\n",
        "import zipfile"
      ],
      "metadata": {
        "id": "-HQgjsK1_E4f"
      },
      "execution_count": 1,
      "outputs": []
    },
    {
      "cell_type": "code",
      "source": [
        "# Extract images from the two zip files\n",
        "\n",
        "!git clone https://github.com/Prashant-AV/Qualcomm-DL-Hackathon.git\n",
        "\n",
        "# Function to remove spaces from file names in a given directory\n",
        "def remove_spaces_in_filenames(directory):\n",
        "    for filename in os.listdir(directory):\n",
        "        if ' ' in filename:\n",
        "            new_filename = filename.replace(' ', '_')\n",
        "            os.rename(os.path.join(directory, filename), os.path.join(directory, new_filename))\n",
        "            print(f'Renamed: {filename} -> {new_filename}')\n",
        "\n",
        "# Function to extract images from a zip file and return a list of image file paths\n",
        "def extract_images(zip_file, extract_to):\n",
        "    with zipfile.ZipFile(zip_file, 'r') as zip_ref:\n",
        "        zip_ref.extractall(extract_to)\n",
        "        return [os.path.join(extract_to, file) for file in zip_ref.namelist() if file.lower().endswith(('.png', '.jpg', '.jpeg'))]\n",
        "\n",
        "# Function to combine images and save them to a new zip file\n",
        "def combine_images_to_zip(image_files, output_zip):\n",
        "    with zipfile.ZipFile(output_zip, 'w') as zipf:\n",
        "        for image_file in image_files:\n",
        "            zipf.write(image_file, os.path.basename(image_file))\n",
        "\n",
        "# Specify the directory containing the files\n",
        "directory = '/content/Qualcomm-DL-Hackathon/train'\n",
        "\n",
        "# Remove spaces from file names\n",
        "remove_spaces_in_filenames(directory)\n",
        "\n",
        "zip_file1 = '/content/Qualcomm-DL-Hackathon/train/images_part-1.zip'\n",
        "zip_file2 = '/content/Qualcomm-DL-Hackathon/train/images_part-2.zip'\n",
        "\n",
        "extract_to1 = 'extracted_zip1'\n",
        "extract_to2 = 'extracted_zip2'\n",
        "\n",
        "image_files1 = extract_images(zip_file1, extract_to1)\n",
        "image_files2 = extract_images(zip_file2, extract_to2)\n",
        "\n",
        "# Combine the images and save them to a new zip file\n",
        "combined_image_files = image_files1 + image_files2\n",
        "output_zip = 'images.zip'\n",
        "combine_images_to_zip(combined_image_files, output_zip)"
      ],
      "metadata": {
        "colab": {
          "base_uri": "https://localhost:8080/"
        },
        "id": "4ad4tmwRd4NM",
        "outputId": "76f23728-36cf-4aa6-b20c-e6d3d00b8dd1"
      },
      "execution_count": 2,
      "outputs": [
        {
          "output_type": "stream",
          "name": "stdout",
          "text": [
            "Cloning into 'Qualcomm-DL-Hackathon'...\n",
            "remote: Enumerating objects: 10, done.\u001b[K\n",
            "remote: Counting objects: 100% (10/10), done.\u001b[K\n",
            "remote: Compressing objects: 100% (10/10), done.\u001b[K\n",
            "remote: Total 10 (delta 1), reused 0 (delta 0), pack-reused 0 (from 0)\u001b[K\n",
            "Receiving objects: 100% (10/10), 30.68 MiB | 17.80 MiB/s, done.\n",
            "Resolving deltas: 100% (1/1), done.\n",
            "Renamed: images part-1.zip -> images_part-1.zip\n",
            "Renamed: images part-2.zip -> images_part-2.zip\n"
          ]
        }
      ]
    },
    {
      "cell_type": "code",
      "source": [
        "extract_dir = \"/content/images\"\n",
        "os.makedirs(extract_dir, exist_ok=True)\n",
        "\n",
        "# Open and extract the zip file\n",
        "with zipfile.ZipFile(\"images.zip\", 'r') as zip_ref:\n",
        "    zip_ref.extractall(extract_dir)\n",
        "\n",
        "print(f\"Contents extracted to {extract_dir}\")"
      ],
      "metadata": {
        "colab": {
          "base_uri": "https://localhost:8080/"
        },
        "id": "1Dr6XEcqFQ2Q",
        "outputId": "51e26476-38f2-48e5-8281-d6b5dd4bd08b"
      },
      "execution_count": 3,
      "outputs": [
        {
          "output_type": "stream",
          "name": "stdout",
          "text": [
            "Contents extracted to /content/images\n"
          ]
        }
      ]
    },
    {
      "cell_type": "code",
      "source": [
        "# Emergency Dataset Class\n",
        "class EmergencyDataset(Dataset):\n",
        "    def __init__(self, csv_file, root_dir, transform=None):\n",
        "        self.data_frame = pd.read_csv(csv_file)\n",
        "        self.root_dir = root_dir\n",
        "        self.transform = transform\n",
        "\n",
        "    def __len__(self):\n",
        "        return len(self.data_frame)\n",
        "\n",
        "    def __getitem__(self, idx):\n",
        "        img_name = os.path.join(self.root_dir, self.data_frame.iloc[idx, 0])\n",
        "        image = Image.open(img_name).convert(\"RGB\")\n",
        "        label = int(self.data_frame.iloc[idx, 1])\n",
        "\n",
        "        if self.transform:\n",
        "            image = self.transform(image)\n",
        "\n",
        "        return image, label"
      ],
      "metadata": {
        "id": "9m3tL88kCFgU"
      },
      "execution_count": 4,
      "outputs": []
    },
    {
      "cell_type": "code",
      "source": [
        "# Split train.csv into train and test sets\n",
        "train_csv = '/content/Qualcomm-DL-Hackathon/train/train.csv'\n",
        "data = pd.read_csv(train_csv)\n",
        "# Split the data into train and test sets\n",
        "train_data, test_data = train_test_split(data, test_size=0.2, random_state=50)\n",
        "\n",
        "# Further split the train_data into train and validation sets\n",
        "train_data, val_data = train_test_split(train_data, test_size=0.2, random_state=50)\n",
        "\n",
        "# Save the split data into new CSV files\n",
        "train_data.to_csv('train_split.csv', index=False)\n",
        "val_data.to_csv('val_split.csv', index=False)\n",
        "test_data.to_csv('test_split.csv', index=False)\n",
        "\n",
        "print(\"Data has been split into train_split.csv, val_split.csv, and test_split.csv\")\n",
        "\n",
        "# Define transformations\n",
        "transform = transforms.Compose([\n",
        "    transforms.Resize((224, 224)),\n",
        "    transforms.ToTensor(),\n",
        "    transforms.Normalize(mean=[0.485, 0.456, 0.406], std=[0.229, 0.224, 0.225])\n",
        "])"
      ],
      "metadata": {
        "colab": {
          "base_uri": "https://localhost:8080/"
        },
        "id": "TL5YYqQfEKmU",
        "outputId": "91307263-e5f0-4b9e-cdb3-495586d59742"
      },
      "execution_count": 5,
      "outputs": [
        {
          "output_type": "stream",
          "name": "stdout",
          "text": [
            "Data has been split into train_split.csv, val_split.csv, and test_split.csv\n"
          ]
        }
      ]
    },
    {
      "cell_type": "code",
      "source": [
        "# Load Data\n",
        "root_dir = '/content/images'\n",
        "train_dataset = EmergencyDataset(csv_file='train_split.csv', root_dir=root_dir, transform=transform)\n",
        "val_dataset = EmergencyDataset(csv_file='val_split.csv', root_dir=root_dir, transform=transform)\n",
        "test_dataset = EmergencyDataset(csv_file='test_split.csv', root_dir=root_dir, transform=transform)\n",
        "\n",
        "train_loader = DataLoader(train_dataset, batch_size=32, shuffle=True)\n",
        "val_loader = DataLoader(val_dataset, batch_size=32, shuffle=False)\n",
        "test_loader = DataLoader(test_dataset, batch_size=32, shuffle=False)\n"
      ],
      "metadata": {
        "id": "K6HagFfrE5-m"
      },
      "execution_count": 6,
      "outputs": []
    },
    {
      "cell_type": "code",
      "source": [
        "device = torch.device(\"cuda\" if torch.cuda.is_available() else \"cpu\")\n",
        "model = models.resnet18(weights=models.ResNet18_Weights.DEFAULT)\n",
        "\n",
        "# Initially freeze all layers\n",
        "for param in model.parameters():\n",
        "    param.requires_grad = False\n",
        "\n",
        "# Unfreeze the last layer\n",
        "for param in model.layer4.parameters():\n",
        "    param.requires_grad = True\n",
        "\n",
        "# Modify the fully connected layer\n",
        "model.fc = nn.Sequential(\n",
        "    nn.Dropout(0.5),\n",
        "    nn.Linear(model.fc.in_features, 1),  # Output layer with 1 unit for binary classification\n",
        "    nn.Sigmoid()  # Sigmoid activation for binary classification\n",
        ")\n",
        "model = model.to(device)\n",
        "\n",
        "# Define different learning rates for different layers\n",
        "optimizer = optim.Adam([\n",
        "    {'params': model.layer4.parameters(), 'lr': 1e-4},\n",
        "    {'params': model.fc.parameters(), 'lr': 1e-3}\n",
        "])\n",
        "\n",
        "# Define the loss function\n",
        "criterion = nn.BCELoss()  # Binary Cross-Entropy Loss"
      ],
      "metadata": {
        "id": "XF0h48qOFzaG",
        "outputId": "1ad32950-5a7b-4136-be47-3ff6d20d9267",
        "colab": {
          "base_uri": "https://localhost:8080/"
        }
      },
      "execution_count": 7,
      "outputs": [
        {
          "output_type": "stream",
          "name": "stderr",
          "text": [
            "Downloading: \"https://download.pytorch.org/models/resnet18-f37072fd.pth\" to /root/.cache/torch/hub/checkpoints/resnet18-f37072fd.pth\n",
            "100%|██████████| 44.7M/44.7M [00:00<00:00, 145MB/s]\n"
          ]
        }
      ]
    },
    {
      "cell_type": "code",
      "source": [
        "num_epochs = 10\n",
        "best_val_loss = float('inf')\n",
        "\n",
        "for epoch in range(num_epochs):\n",
        "    model.train()\n",
        "    running_loss = 0.0\n",
        "    correct = 0\n",
        "    total = 0\n",
        "\n",
        "    for inputs, labels in train_loader:\n",
        "        inputs, labels = inputs.to(device), labels.to(device)\n",
        "\n",
        "        # Reshape labels to match the output shape\n",
        "        labels = labels.view(-1, 1).float()\n",
        "\n",
        "        optimizer.zero_grad()\n",
        "        outputs = model(inputs)\n",
        "        loss = criterion(outputs, labels)\n",
        "        loss.backward()\n",
        "        optimizer.step()\n",
        "\n",
        "        running_loss += loss.item()\n",
        "        predicted = (outputs > 0.5).float()\n",
        "        total += labels.size(0)\n",
        "        correct += (predicted == labels).sum().item()\n",
        "\n",
        "    epoch_loss = running_loss / len(train_loader)\n",
        "    epoch_acc = 100 * correct / total\n",
        "    print(f\"Epoch {epoch+1}/{num_epochs}, Loss: {epoch_loss:.4f}, Accuracy: {epoch_acc:.2f}%\")\n",
        "\n",
        "    # Validation step\n",
        "    model.eval()\n",
        "    val_loss = 0.0\n",
        "    val_correct = 0\n",
        "    val_total = 0\n",
        "    with torch.no_grad():\n",
        "        for val_inputs, val_labels in val_loader:\n",
        "            val_inputs, val_labels = val_inputs.to(device), val_labels.to(device)\n",
        "            val_labels = val_labels.view(-1, 1).float()\n",
        "            val_outputs = model(val_inputs)\n",
        "            val_loss += criterion(val_outputs, val_labels).item()\n",
        "            val_predicted = (val_outputs > 0.5).float()\n",
        "            val_total += val_labels.size(0)\n",
        "            val_correct += (val_predicted == val_labels).sum().item()\n",
        "\n",
        "    val_loss /= len(val_loader)\n",
        "    val_acc = 100 * val_correct / val_total\n",
        "    print(f\"Validation Loss: {val_loss:.4f}, Validation Accuracy: {val_acc:.2f}%\")\n",
        "\n",
        "    # Save the model if validation loss has decreased\n",
        "    if val_loss < best_val_loss:\n",
        "        best_val_loss = val_loss\n",
        "        torch.save(model.state_dict(), 'vehicle_classifier.pth')\n",
        "        print(\"Model saved!\")\n",
        "\n",
        "# Load the best model\n",
        "model.load_state_dict(torch.load('vehicle_classifier.pth'))"
      ],
      "metadata": {
        "colab": {
          "base_uri": "https://localhost:8080/"
        },
        "id": "EYfBRmuPF8DR",
        "outputId": "26ec6647-b19b-447d-a9a4-bafd8a19af48"
      },
      "execution_count": 8,
      "outputs": [
        {
          "output_type": "stream",
          "name": "stdout",
          "text": [
            "Epoch 1/50, Loss: 0.3287, Accuracy: 84.89%\n",
            "Validation Loss: 0.1530, Validation Accuracy: 94.32%\n",
            "Model saved!\n",
            "Epoch 2/50, Loss: 0.0930, Accuracy: 97.43%\n",
            "Validation Loss: 0.1372, Validation Accuracy: 94.70%\n",
            "Model saved!\n",
            "Epoch 3/50, Loss: 0.0322, Accuracy: 99.43%\n",
            "Validation Loss: 0.1337, Validation Accuracy: 96.21%\n",
            "Model saved!\n",
            "Epoch 4/50, Loss: 0.0173, Accuracy: 99.81%\n",
            "Validation Loss: 0.1571, Validation Accuracy: 93.94%\n",
            "Epoch 5/50, Loss: 0.0083, Accuracy: 99.81%\n",
            "Validation Loss: 0.1575, Validation Accuracy: 94.32%\n",
            "Epoch 6/50, Loss: 0.0117, Accuracy: 99.81%\n",
            "Validation Loss: 0.1363, Validation Accuracy: 95.08%\n",
            "Epoch 7/50, Loss: 0.0076, Accuracy: 99.90%\n",
            "Validation Loss: 0.1525, Validation Accuracy: 95.83%\n",
            "Epoch 8/50, Loss: 0.0046, Accuracy: 99.90%\n",
            "Validation Loss: 0.1487, Validation Accuracy: 95.83%\n",
            "Epoch 9/50, Loss: 0.0029, Accuracy: 99.90%\n",
            "Validation Loss: 0.1532, Validation Accuracy: 95.08%\n",
            "Epoch 10/50, Loss: 0.0029, Accuracy: 99.90%\n",
            "Validation Loss: 0.1565, Validation Accuracy: 94.32%\n",
            "Epoch 11/50, Loss: 0.0029, Accuracy: 99.90%\n",
            "Validation Loss: 0.1616, Validation Accuracy: 95.08%\n",
            "Epoch 12/50, Loss: 0.0026, Accuracy: 99.81%\n",
            "Validation Loss: 0.1650, Validation Accuracy: 95.45%\n",
            "Epoch 13/50, Loss: 0.0035, Accuracy: 99.90%\n",
            "Validation Loss: 0.1700, Validation Accuracy: 94.70%\n",
            "Epoch 14/50, Loss: 0.0020, Accuracy: 99.90%\n",
            "Validation Loss: 0.1678, Validation Accuracy: 95.08%\n",
            "Epoch 15/50, Loss: 0.0023, Accuracy: 99.90%\n",
            "Validation Loss: 0.1657, Validation Accuracy: 95.08%\n",
            "Epoch 16/50, Loss: 0.0019, Accuracy: 99.90%\n",
            "Validation Loss: 0.1710, Validation Accuracy: 95.83%\n",
            "Epoch 17/50, Loss: 0.0026, Accuracy: 99.90%\n",
            "Validation Loss: 0.1631, Validation Accuracy: 95.83%\n",
            "Epoch 18/50, Loss: 0.0021, Accuracy: 99.81%\n",
            "Validation Loss: 0.1679, Validation Accuracy: 95.45%\n",
            "Epoch 19/50, Loss: 0.0018, Accuracy: 99.90%\n",
            "Validation Loss: 0.1755, Validation Accuracy: 95.08%\n",
            "Epoch 20/50, Loss: 0.0022, Accuracy: 99.81%\n",
            "Validation Loss: 0.1754, Validation Accuracy: 94.70%\n",
            "Epoch 21/50, Loss: 0.0018, Accuracy: 99.90%\n",
            "Validation Loss: 0.1718, Validation Accuracy: 95.45%\n",
            "Epoch 22/50, Loss: 0.0016, Accuracy: 99.90%\n",
            "Validation Loss: 0.1773, Validation Accuracy: 94.70%\n",
            "Epoch 23/50, Loss: 0.0015, Accuracy: 99.90%\n",
            "Validation Loss: 0.1743, Validation Accuracy: 95.45%\n",
            "Epoch 24/50, Loss: 0.0017, Accuracy: 99.81%\n",
            "Validation Loss: 0.1711, Validation Accuracy: 95.08%\n",
            "Epoch 25/50, Loss: 0.0016, Accuracy: 99.90%\n",
            "Validation Loss: 0.1757, Validation Accuracy: 95.08%\n",
            "Epoch 26/50, Loss: 0.0017, Accuracy: 99.90%\n",
            "Validation Loss: 0.1751, Validation Accuracy: 96.21%\n",
            "Epoch 27/50, Loss: 0.0015, Accuracy: 100.00%\n",
            "Validation Loss: 0.1779, Validation Accuracy: 93.94%\n",
            "Epoch 28/50, Loss: 0.0010, Accuracy: 100.00%\n",
            "Validation Loss: 0.1809, Validation Accuracy: 94.70%\n",
            "Epoch 29/50, Loss: 0.0020, Accuracy: 99.81%\n",
            "Validation Loss: 0.1874, Validation Accuracy: 94.32%\n",
            "Epoch 30/50, Loss: 0.0025, Accuracy: 99.81%\n",
            "Validation Loss: 0.1817, Validation Accuracy: 95.45%\n",
            "Epoch 31/50, Loss: 0.0015, Accuracy: 99.90%\n",
            "Validation Loss: 0.1810, Validation Accuracy: 95.08%\n",
            "Epoch 32/50, Loss: 0.0019, Accuracy: 99.81%\n",
            "Validation Loss: 0.1840, Validation Accuracy: 95.08%\n",
            "Epoch 33/50, Loss: 0.0017, Accuracy: 99.90%\n",
            "Validation Loss: 0.1855, Validation Accuracy: 95.83%\n",
            "Epoch 34/50, Loss: 0.0019, Accuracy: 99.81%\n",
            "Validation Loss: 0.1819, Validation Accuracy: 95.08%\n",
            "Epoch 35/50, Loss: 0.0016, Accuracy: 99.90%\n",
            "Validation Loss: 0.1832, Validation Accuracy: 95.45%\n",
            "Epoch 36/50, Loss: 0.0014, Accuracy: 100.00%\n",
            "Validation Loss: 0.1856, Validation Accuracy: 95.45%\n",
            "Epoch 37/50, Loss: 0.0014, Accuracy: 99.90%\n",
            "Validation Loss: 0.1839, Validation Accuracy: 95.45%\n",
            "Epoch 38/50, Loss: 0.0014, Accuracy: 99.90%\n",
            "Validation Loss: 0.1861, Validation Accuracy: 95.45%\n",
            "Epoch 39/50, Loss: 0.0020, Accuracy: 99.81%\n",
            "Validation Loss: 0.1835, Validation Accuracy: 95.45%\n",
            "Epoch 40/50, Loss: 0.0016, Accuracy: 99.90%\n",
            "Validation Loss: 0.1794, Validation Accuracy: 95.08%\n",
            "Epoch 41/50, Loss: 0.0014, Accuracy: 99.81%\n",
            "Validation Loss: 0.1801, Validation Accuracy: 95.08%\n",
            "Epoch 42/50, Loss: 0.0014, Accuracy: 99.90%\n",
            "Validation Loss: 0.1824, Validation Accuracy: 95.08%\n",
            "Epoch 43/50, Loss: 0.0020, Accuracy: 99.81%\n",
            "Validation Loss: 0.1885, Validation Accuracy: 94.70%\n",
            "Epoch 44/50, Loss: 0.0014, Accuracy: 99.90%\n",
            "Validation Loss: 0.1869, Validation Accuracy: 95.45%\n",
            "Epoch 45/50, Loss: 0.0017, Accuracy: 99.81%\n",
            "Validation Loss: 0.1856, Validation Accuracy: 95.45%\n",
            "Epoch 46/50, Loss: 0.0019, Accuracy: 99.81%\n",
            "Validation Loss: 0.1933, Validation Accuracy: 95.08%\n",
            "Epoch 47/50, Loss: 0.0018, Accuracy: 99.81%\n",
            "Validation Loss: 0.1901, Validation Accuracy: 95.45%\n",
            "Epoch 48/50, Loss: 0.0014, Accuracy: 99.90%\n",
            "Validation Loss: 0.1922, Validation Accuracy: 95.45%\n",
            "Epoch 49/50, Loss: 0.0013, Accuracy: 99.90%\n",
            "Validation Loss: 0.1914, Validation Accuracy: 95.45%\n",
            "Epoch 50/50, Loss: 0.0013, Accuracy: 100.00%\n",
            "Validation Loss: 0.1928, Validation Accuracy: 95.08%\n"
          ]
        },
        {
          "output_type": "stream",
          "name": "stderr",
          "text": [
            "<ipython-input-8-68fc0f57b2ca>:57: FutureWarning: You are using `torch.load` with `weights_only=False` (the current default value), which uses the default pickle module implicitly. It is possible to construct malicious pickle data which will execute arbitrary code during unpickling (See https://github.com/pytorch/pytorch/blob/main/SECURITY.md#untrusted-models for more details). In a future release, the default value for `weights_only` will be flipped to `True`. This limits the functions that could be executed during unpickling. Arbitrary objects will no longer be allowed to be loaded via this mode unless they are explicitly allowlisted by the user via `torch.serialization.add_safe_globals`. We recommend you start setting `weights_only=True` for any use case where you don't have full control of the loaded file. Please open an issue on GitHub for any issues related to this experimental feature.\n",
            "  model.load_state_dict(torch.load('vehicle_classifier.pth'))\n"
          ]
        },
        {
          "output_type": "execute_result",
          "data": {
            "text/plain": [
              "<All keys matched successfully>"
            ]
          },
          "metadata": {},
          "execution_count": 8
        }
      ]
    },
    {
      "cell_type": "code",
      "source": [
        "# Custom Dataset Class for Test Data\n",
        "class TestDataset(Dataset):\n",
        "    def __init__(self, csv_file, root_dir, transform=None):\n",
        "        self.data_frame = pd.read_csv(csv_file)\n",
        "        self.root_dir = root_dir\n",
        "        self.transform = transform\n",
        "\n",
        "    def __len__(self):\n",
        "        return len(self.data_frame)\n",
        "\n",
        "    def __getitem__(self, idx):\n",
        "        img_name = os.path.join(self.root_dir, self.data_frame.iloc[idx, 0])\n",
        "        image = Image.open(img_name).convert(\"RGB\")\n",
        "\n",
        "        if self.transform:\n",
        "            image = self.transform(image)\n",
        "\n",
        "        return image, self.data_frame.iloc[idx, 0]\n",
        "\n",
        "# Load the test data\n",
        "test_csv = '/content/Qualcomm-DL-Hackathon/test.csv'\n",
        "test_dataset = TestDataset(csv_file=test_csv, root_dir=root_dir, transform=transform)\n",
        "test_loader = DataLoader(test_dataset, batch_size=32, shuffle=False)\n",
        "\n",
        "# Perform inference on the test data and write results to sample_submissions.csv\n",
        "results = []\n",
        "\n",
        "with torch.no_grad():\n",
        "    for inputs, img_names in test_loader:\n",
        "        inputs = inputs.to(device)\n",
        "        outputs = model(inputs)\n",
        "        _, predicted = torch.max(outputs, 1)\n",
        "\n",
        "        for img_name, pred in zip(img_names, predicted):\n",
        "            results.append([img_name, pred.item()])\n",
        "\n",
        "# Save the results to sample_submissions.csv\n",
        "submission_df = pd.DataFrame(results, columns=['image_names', 'emergency_or_not'])\n",
        "submission_df.to_csv('sample_submissions.csv', index=False)\n",
        "\n",
        "print(\"Results have been written to sample_submissions.csv\")"
      ],
      "metadata": {
        "colab": {
          "base_uri": "https://localhost:8080/"
        },
        "id": "XbIuaQxjTwQx",
        "outputId": "f0023548-4834-4d5f-ca25-ea7e4cf52438"
      },
      "execution_count": 9,
      "outputs": [
        {
          "output_type": "stream",
          "name": "stdout",
          "text": [
            "Results have been written to sample_submissions.csv\n"
          ]
        }
      ]
    },
    {
      "cell_type": "code",
      "source": [],
      "metadata": {
        "id": "a8vE6aPwlXIe"
      },
      "execution_count": 9,
      "outputs": []
    }
  ]
}